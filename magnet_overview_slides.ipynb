{
 "cells": [
  {
   "cell_type": "code",
   "execution_count": 1,
   "metadata": {
    "slideshow": {
     "slide_type": "skip"
    }
   },
   "outputs": [],
   "source": [
    "import numpy as np\n",
    "import scipy\n",
    "from scipy.linalg import fractional_matrix_power as fracpow\n",
    "from numpy.linalg import matrix_power as matpow\n",
    "from numpy.linalg import eig as eigvv\n",
    "np.set_printoptions(threshold=np.nan)"
   ]
  },
  {
   "cell_type": "markdown",
   "metadata": {
    "slideshow": {
     "slide_type": "slide"
    }
   },
   "source": [
    "# Brief Overview of MagNet <br> Adversarial Defense by Meng & Chen\n",
    "## Zigfried Hampel-Arias\n",
    "\n",
    "### Ideas for NIPS-2018 Competition\n",
    "15 October, 2018"
   ]
  },
  {
   "cell_type": "markdown",
   "metadata": {
    "slideshow": {
     "slide_type": "skip"
    }
   },
   "source": [
    "### Slides\n",
    "https://zhampel.github.io/magnet-brief-overview\n",
    "\n",
    "### Contact\n",
    "\n",
    "Find me on:\n",
    "\n",
    "<a href=\"https://zhampel.github.io/\">\n",
    "<img src=\"images/octocat.png\" alt=\"Go My GitHub\" width=\"60\" height=\"60\" border=\"0\"> </a>\n",
    "\n",
    "<a href=\"https://www.linkedin.com/in/zhampel-arias/\">\n",
    "<img src=\"images/LinkedIn-InBug-2C.png\" alt=\"Go to my LinkedIn\" width=\"60\" height=\"60\" border=\"0\">\n",
    "</a>\n"
   ]
  },
  {
   "cell_type": "markdown",
   "metadata": {
    "slideshow": {
     "slide_type": "slide"
    }
   },
   "source": [
    "## Overview\n",
    "\n",
    "- Brief Terminology\n",
    "- MagNet Architecture & Functionality\n",
    "- Results on MNIST & CIFAR-10 by Meng & Chen (2017)"
   ]
  },
  {
   "cell_type": "markdown",
   "metadata": {
    "slideshow": {
     "slide_type": "slide"
    }
   },
   "source": [
    "## Notation\n",
    "\n",
    "- $\\mathcal{S}$ is the set of all images\n",
    "- $\\mathcal{N}_t$ is the set of natural training images ($|\\mathcal{N}_t| << |\\mathcal{S}|$)\n",
    "- $\\mathcal{S} \\backslash \\mathcal{N}_t$ is the set of adversarial images\n",
    "\n",
    "<table>\n",
    "    <td> <img src=\"images/Set_full.png\" width=\"200px\" height=\"200px\"> </td>\n",
    "    <td> <img src=\"images/Set_S_exc_N.png\" width=\"200px\" height=\"200px\"> </td>\n",
    "</table>\n"
   ]
  },
  {
   "cell_type": "markdown",
   "metadata": {
    "slideshow": {
     "slide_type": "slide"
    }
   },
   "source": [
    "## Magnet Architecture\n",
    "![magnet_arch](images/MagNet_arch.png)"
   ]
  },
  {
   "cell_type": "markdown",
   "metadata": {
    "slideshow": {
     "slide_type": "subslide"
    }
   },
   "source": [
    "## Detector\n",
    "\n",
    "The **detector** determines whether an image is *clearly* adversarial.\n",
    "- Autoencoder $ae(x)$ that compares input and training set similarity\n",
    "- Is trained **only** on *training* dataset"
   ]
  },
  {
   "cell_type": "markdown",
   "metadata": {
    "slideshow": {
     "slide_type": "fragment"
    }
   },
   "source": [
    "- User defined threshold built on\n",
    "    - **reconstruction error** $||x-ae(x)||_p$\n",
    "    - **probability divergence** comparing logits from classifier (don't fully understand this one...)\n",
    "- Best for examples far from $\\mathcal{N}_t$"
   ]
  },
  {
   "cell_type": "markdown",
   "metadata": {
    "slideshow": {
     "slide_type": "fragment"
    }
   },
   "source": [
    "- Decision action:\n",
    "    - Yes -> attack identified\n",
    "    - No -> feed to *reformer*"
   ]
  },
  {
   "cell_type": "markdown",
   "metadata": {
    "slideshow": {
     "slide_type": "subslide"
    }
   },
   "source": [
    "## Reformer\n",
    "\n",
    "The **reformer** *smooths* an image into the space of admissible inputs to the classifier.\n",
    "- Autoencoder $ae(x)$ producing a re-representation of x\n",
    "- If $x \\notin \\mathcal{N}_t$, can we bring image closer to the dataset space?\n",
    "$$\n",
    "ae(x) : \\mathcal{S} \\to \\mathcal{N}_t\n",
    "$$"
   ]
  },
  {
   "cell_type": "markdown",
   "metadata": {
    "slideshow": {
     "slide_type": "fragment"
    }
   },
   "source": [
    "- Is trained only on *training* dataset\n",
    "- Won't affect normal examples, will move adversarial example towards a normal one\n",
    "- Effectively a denoiser for examples near $\\mathcal{N}_t$"
   ]
  },
  {
   "cell_type": "markdown",
   "metadata": {
    "slideshow": {
     "slide_type": "slide"
    }
   },
   "source": [
    "## Teamwork\n",
    "\n",
    "![set_det_ref_regions_zoom](images/Set_det_ref_regions_zoom.png)"
   ]
  },
  {
   "cell_type": "markdown",
   "metadata": {
    "slideshow": {
     "slide_type": "subslide"
    }
   },
   "source": [
    "## Teamwork\n",
    "- Green circles = images s.t. $x \\in \\mathcal{N}_t$\n",
    "- Red crosses = images s.t. $x \\in \\mathcal{S} \\backslash \\mathcal{N}_t$\n",
    "<img src=\"images/det_ref_func.png\" width=\"400px\">"
   ]
  },
  {
   "cell_type": "markdown",
   "metadata": {
    "slideshow": {
     "slide_type": "slide"
    }
   },
   "source": [
    "## MagNet Architecture\n",
    "\n",
    "- Feed through set of detectors, see if any get set off\n",
    "- If not clearly an attack, feed through reformer\n",
    "    - If $x \\in \\mathcal{N}_t$, $ae(x) = x$\n",
    "    - If $x \\notin \\mathcal{N}_t$, $ae(x) \\approx x' \\in \\mathcal{N}_t $\n",
    "\n",
    "<img src=\"images/MagNet_arch.png\" width=\"500px\">"
   ]
  },
  {
   "cell_type": "markdown",
   "metadata": {
    "slideshow": {
     "slide_type": "slide"
    }
   },
   "source": [
    "## Meng & Chen Results\n",
    "\n",
    "Example adversarial MNIST images\n",
    "\n",
    "<img src=\"images/mnist_examples.png\" width=\"400px\">"
   ]
  },
  {
   "cell_type": "markdown",
   "metadata": {
    "slideshow": {
     "slide_type": "subslide"
    }
   },
   "source": [
    "## Classification Accuracies\n",
    "\n",
    "- Build model with accuracies of\n",
    "    - 99.4% on MNIST\n",
    "    - 90.6% on CIFAR-10\n",
    "\n",
    "| ![mnist_table](images/mnist_table.png)  | ![mnist_table](images/cifar_table.png) |\n",
    "|:---:|:---:|\n",
    "| MNIST | CIFAR-10 |\n"
   ]
  },
  {
   "cell_type": "markdown",
   "metadata": {
    "slideshow": {
     "slide_type": "subslide"
    }
   },
   "source": [
    "## Classification Accuracies\n",
    "\n",
    "Testing with Carlini's $L_2$ attack\n",
    "\n",
    "![acc_figure](images/acc_figures.png)\n"
   ]
  },
  {
   "cell_type": "markdown",
   "metadata": {
    "slideshow": {
     "slide_type": "subslide"
    }
   },
   "source": [
    "## Graybox Attack\n",
    "\n",
    "Graybox attack: knowledge of the architecture is known, but not the parameters.\n",
    "- Not quite sure why 'Random' row is not the average...\n",
    "\n",
    "<img src=\"images/graybox_attack.png\" width=\"400px\">\n"
   ]
  },
  {
   "cell_type": "markdown",
   "metadata": {
    "slideshow": {
     "slide_type": "slide"
    }
   },
   "source": [
    "## My MNIST Results\n",
    "- Ran their test code\n",
    "- Slightly different behavior, but better than in the paper\n",
    "- Had access only to coarser pre-trained attacks\n",
    "\n",
    "<img src=\"images/my_defense_performance.pdf\" width=\"400px\">"
   ]
  },
  {
   "cell_type": "markdown",
   "metadata": {
    "slideshow": {
     "slide_type": "slide"
    }
   },
   "source": [
    "## Updating MagNet\n",
    "\n",
    "- Submitted PR making code compatible with updated TF\n",
    "- And some spelling mistakes they had...\n",
    "- Specifically a call to load_model using a custom loss function when... loading models<br>\n",
    "    `load_model(classifier_path, custom_objects={'custom_loss': custom_loss})`"
   ]
  },
  {
   "cell_type": "markdown",
   "metadata": {
    "slideshow": {
     "slide_type": "slide"
    }
   },
   "source": [
    "# Summary\n",
    "\n",
    "- Agnostic to both the **classifier model** & the **adversarial attack**"
   ]
  },
  {
   "cell_type": "markdown",
   "metadata": {
    "slideshow": {
     "slide_type": "fragment"
    }
   },
   "source": [
    "- For NIPS purposes, reformer is probably sufficient\n",
    "    - We know there is an attack...\n",
    "    - Potentially improve upon reformer structure\n",
    "![magnet_arch_truncated](images/MagNet_NIPS_Truncated_arch.png)"
   ]
  },
  {
   "cell_type": "markdown",
   "metadata": {
    "slideshow": {
     "slide_type": "subslide"
    }
   },
   "source": [
    "# Summary\n",
    "\n",
    "- Agnostic to both the **classifier model** & the **adversarial attack**\n",
    "- For NIPS purposes, reformer is probably sufficient\n",
    "    - We know there is an attack...\n",
    "    - Potentially improve upon reformer structure\n",
    "- Could propose second reformer (based on inference time) chosen at random excluding first reformer arch.\n",
    "- Need to test inference timing of reformer + classifier"
   ]
  },
  {
   "cell_type": "markdown",
   "metadata": {
    "slideshow": {
     "slide_type": "fragment"
    }
   },
   "source": [
    "- Made changes to update MagNet"
   ]
  },
  {
   "cell_type": "markdown",
   "metadata": {
    "slideshow": {
     "slide_type": "fragment"
    }
   },
   "source": [
    "- Example attacks in MagNet are for MNIST only!\n",
    "- Could work on getting Carlini's code into a more general adversarial attack package for us to use"
   ]
  },
  {
   "cell_type": "markdown",
   "metadata": {
    "slideshow": {
     "slide_type": "slide"
    }
   },
   "source": [
    "# Thank you for your attention!\n",
    "\n",
    "<br>\n",
    "\n",
    "![final](images/sunset-gsl.jpg)\n",
    "\n",
    "## Any Further Questions?"
   ]
  },
  {
   "cell_type": "markdown",
   "metadata": {
    "slideshow": {
     "slide_type": "slide"
    }
   },
   "source": [
    "# Backups"
   ]
  },
  {
   "cell_type": "code",
   "execution_count": null,
   "metadata": {},
   "outputs": [],
   "source": []
  }
 ],
 "metadata": {
  "celltoolbar": "Slideshow",
  "kernelspec": {
   "display_name": "Python 3",
   "language": "python",
   "name": "python3"
  },
  "language_info": {
   "codemirror_mode": {
    "name": "ipython",
    "version": 3
   },
   "file_extension": ".py",
   "mimetype": "text/x-python",
   "name": "python",
   "nbconvert_exporter": "python",
   "pygments_lexer": "ipython3",
   "version": "3.7.0"
  }
 },
 "nbformat": 4,
 "nbformat_minor": 2
}
